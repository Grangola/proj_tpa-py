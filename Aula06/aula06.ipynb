{
 "cells": [
  {
   "cell_type": "markdown",
   "metadata": {},
   "source": [
    "# Introdução a Tuplas e Dicionários"
   ]
  },
  {
   "cell_type": "code",
   "execution_count": 295,
   "metadata": {},
   "outputs": [
    {
     "name": "stdout",
     "output_type": "stream",
     "text": [
      "[2, 5, 9]\n"
     ]
    }
   ],
   "source": [
    "lista = [2,5,9]\n",
    "lista[1]\n",
    "print(lista)"
   ]
  },
  {
   "cell_type": "code",
   "execution_count": 294,
   "metadata": {},
   "outputs": [
    {
     "name": "stdout",
     "output_type": "stream",
     "text": [
      "(6, 8, 9)\n"
     ]
    }
   ],
   "source": [
    "tupla = (6,8,9)\n",
    "tupla\n",
    "print(tupla)"
   ]
  },
  {
   "cell_type": "code",
   "execution_count": 222,
   "metadata": {},
   "outputs": [
    {
     "name": "stdout",
     "output_type": "stream",
     "text": [
      "[2, 5, 9, 7, 7, 7, 7, 7, 7, 7, 7, 7, 7, 7, 7, 7, 7, 7, 7, 7, 7, 7, 7, 7, 7, 7, 7, 7, 7, 7, 7, 7, 7, 7, 7, 7, 7, 7, 7, 7, 7, 7, 7, 7, 7, 7, 7, 7, 7, 7, 7, 7, 7, 7, 7, 7, 7, 7, 7, 7, 7, 7, 7, 7, 7, 7, 7, 7, 7, 7, 7, 7, 7, 7, 7, 7, 7, 7, 7, 7, 7, 7, 7, 7, 7, 7, 7, 7, 7, 7, 7, 7, 7, 7, 7, 7, 7, 7, 7, 7, 7, 7, 7, 7, 7, 7, 7, 7, 7, 7, 7, 7, 7, 7, 7, 7, 7, 7, 7, 7, 7, 7, 7, 7, 7, 7, 7, 7, 7, 7, 7, 7, 7, 7, 7, 7, 7, 7, 7, 7, 7, 7, 7, 7, 7, 7, 7, 7, 7, 7, 7, 7, 7, 7, 7, 7, 7, 7, 7, 7, 7, 7, 7, 7, 7, 7, 7, 7, 7, 7, 7, 7, 7, 7, 7, 7, 7, 7, 7, 7, 7, 7, 7, 7, 7, 7, 7, 7, 7, 7, 7, 7, 7, 7, 7, 7, 1, 1, 1, 1, 1, 1, 1, 1, 1, 1, 1, 1, 1, 1, 1, 1, 1, 1, 1, 1, 1, 1, 1, 1]\n"
     ]
    }
   ],
   "source": [
    "lista.append(1)\n",
    "print(lista)"
   ]
  },
  {
   "cell_type": "code",
   "execution_count": null,
   "metadata": {},
   "outputs": [],
   "source": [
    "tupla.add(1)\n",
    "print(tupla)"
   ]
  },
  {
   "cell_type": "code",
   "execution_count": 299,
   "metadata": {},
   "outputs": [
    {
     "ename": "TypeError",
     "evalue": "'tuple' object does not support item assignment",
     "output_type": "error",
     "traceback": [
      "\u001b[1;31m---------------------------------------------------------------------------\u001b[0m",
      "\u001b[1;31mTypeError\u001b[0m                                 Traceback (most recent call last)",
      "Cell \u001b[1;32mIn[299], line 1\u001b[0m\n\u001b[1;32m----> 1\u001b[0m \u001b[43mtupla\u001b[49m\u001b[43m[\u001b[49m\u001b[38;5;241;43m1\u001b[39;49m\u001b[43m]\u001b[49m \u001b[38;5;241m=\u001b[39m \u001b[38;5;241m7\u001b[39m\n",
      "\u001b[1;31mTypeError\u001b[0m: 'tuple' object does not support item assignment"
     ]
    }
   ],
   "source": [
    "tupla[1] = 7"
   ]
  },
  {
   "cell_type": "markdown",
   "metadata": {},
   "source": [
    "# Introdução a DIcionários"
   ]
  },
  {
   "cell_type": "code",
   "execution_count": 300,
   "metadata": {},
   "outputs": [],
   "source": [
    "dicionario = {\n",
    "    'curso':'Desenvolvimento de Sistemas',\n",
    "    'ano': 2024,\n",
    "    'modulo': 'Tecnologias de Programação e Algoritmos',\n",
    "    'professor': 'Gustavo'\n",
    "}"
   ]
  },
  {
   "cell_type": "code",
   "execution_count": 302,
   "metadata": {},
   "outputs": [
    {
     "name": "stdout",
     "output_type": "stream",
     "text": [
      "Desenvolvimento de Sistemas\n",
      "2024\n",
      "Tecnologias de Programação e Algoritmos\n",
      "Gustavo\n"
     ]
    }
   ],
   "source": [
    "print(dicionario['curso'])\n",
    "print(dicionario['ano'])\n",
    "print(dicionario['modulo'])\n",
    "print(dicionario['professor'])"
   ]
  },
  {
   "cell_type": "code",
   "execution_count": 304,
   "metadata": {},
   "outputs": [
    {
     "name": "stdout",
     "output_type": "stream",
     "text": [
      "9.5\n"
     ]
    }
   ],
   "source": [
    "dicionario['nota'] = 9.5\n",
    "print(dicionario['nota'])"
   ]
  },
  {
   "cell_type": "code",
   "execution_count": 305,
   "metadata": {},
   "outputs": [
    {
     "name": "stdout",
     "output_type": "stream",
     "text": [
      "{'curso': 'Desenvolvimento de Sistemas', 'ano': 2024, 'modulo': 'Tecnologias de Programação e Algoritmos', 'professor': 'Gustavo', 'nota': 9.5}\n"
     ]
    }
   ],
   "source": [
    "print(dicionario)"
   ]
  },
  {
   "cell_type": "code",
   "execution_count": 310,
   "metadata": {},
   "outputs": [
    {
     "name": "stdout",
     "output_type": "stream",
     "text": [
      "curso\n",
      "ano\n",
      "modulo\n",
      "professor\n",
      "nota\n"
     ]
    }
   ],
   "source": [
    "for x in dicionario.keys():\n",
    "    print(x)"
   ]
  },
  {
   "cell_type": "code",
   "execution_count": 312,
   "metadata": {},
   "outputs": [
    {
     "name": "stdout",
     "output_type": "stream",
     "text": [
      "dict_keys(['curso', 'ano', 'modulo', 'professor', 'nota'])\n",
      "dict_values(['Desenvolvimento de Sistemas', 2024, 'Tecnologias de Programação e Algoritmos', 'Gustavo', 9.5])\n"
     ]
    }
   ],
   "source": [
    "print(dicionario.keys())\n",
    "print(dicionario.values())"
   ]
  },
  {
   "cell_type": "code",
   "execution_count": 313,
   "metadata": {},
   "outputs": [
    {
     "name": "stdout",
     "output_type": "stream",
     "text": [
      "{}\n"
     ]
    }
   ],
   "source": [
    "dicionario.clear()\n",
    "print(dicionario)"
   ]
  },
  {
   "cell_type": "markdown",
   "metadata": {},
   "source": [
    "# Exercício 1"
   ]
  },
  {
   "cell_type": "markdown",
   "metadata": {},
   "source": [
    "> Crie 3 dicionários: matrícula, aluno e disciplina: \n",
    ">A matrícula terá código da matrícula, data_inscrição e curso;\n",
    ">O aluno terá registro e nome;\n",
    ">A disciplina terá registro e professor;Ao final;adicione os três dicionários em uma tupla chamada escola"
   ]
  },
  {
   "cell_type": "code",
   "execution_count": 322,
   "metadata": {},
   "outputs": [
    {
     "name": "stdout",
     "output_type": "stream",
     "text": [
      "{'curso': 'Desenvolvimento de Sistemas', 'data_incricao': '01/02/2024', 'codigo': '123456'}\n",
      "{'registro': '123456', 'professor': 'Gustavo'}\n",
      "{'nome': 'Tiago', 'registro': '123456'}\n"
     ]
    }
   ],
   "source": [
    "matricula = {\n",
    "    'curso':'Desenvolvimento de Sistemas',\n",
    "    'data_incricao': '01/02/2024',\n",
    "    'codigo': '123456'\n",
    "}\n",
    "\n",
    "aluno = {\n",
    "    'nome': 'Tiago',\n",
    "    'registro': '123456'\n",
    "}\n",
    "\n",
    "disciplina = {\n",
    "    'registro': '123456',\n",
    "    'professor': 'Gustavo'\n",
    "}\n",
    "\n",
    "print(matricula)\n",
    "print(disciplina)\n",
    "print(aluno)"
   ]
  },
  {
   "cell_type": "code",
   "execution_count": 327,
   "metadata": {},
   "outputs": [
    {
     "name": "stdout",
     "output_type": "stream",
     "text": [
      "(dict_values(['Desenvolvimento de Sistemas', '01/02/2024', '123456']), dict_values(['Tiago', '123456']), dict_values(['123456', 'Gustavo']))\n"
     ]
    }
   ],
   "source": [
    "escola = (matricula.values(),aluno.values(),disciplina.values())\n",
    "print(escola)"
   ]
  },
  {
   "cell_type": "markdown",
   "metadata": {},
   "source": [
    "# Exercício 2"
   ]
  },
  {
   "cell_type": "markdown",
   "metadata": {},
   "source": [
    "> Crie 3 dicionários para as seguintes tabelas: vendedor, produto e venda. O vendedor terá resistro, nome e admissão; o produto terá ID, nome e fabricante; a venda terá reg_vendedor, id_produto e valor.\n",
    ">Após a criação dos dicionários, adicionem a uma tupla chamada Casas Baiano"
   ]
  },
  {
   "cell_type": "code",
   "execution_count": 328,
   "metadata": {},
   "outputs": [
    {
     "name": "stdout",
     "output_type": "stream",
     "text": [
      "{'nome': 'João Pedro', 'admissao': '01/02/2024', 'registro': '123456'}\n",
      "{'ID': '1234', 'nome': 'fogão', 'fabricante': 'Brastemp'}\n",
      "{'reg_vendedor': '123456', 'id_produto': '1234', 'valor': 'R$:1500,00'}\n"
     ]
    }
   ],
   "source": [
    "vendedor = {\n",
    "    'nome':'João Pedro',\n",
    "    'admissao': '01/02/2024',\n",
    "    'registro': '123456'\n",
    "}\n",
    "\n",
    "produto = {\n",
    "    'ID': '1234',\n",
    "    'nome': 'fogão',\n",
    "    'fabricante':  'Brastemp',\n",
    "\n",
    "}\n",
    "\n",
    "venda = {\n",
    "    'reg_vendedor': '123456',\n",
    "    'id_produto': '1234',\n",
    "    'valor': 'R$:1500,00'\n",
    "}\n",
    "\n",
    "print(vendedor)\n",
    "print(produto)\n",
    "print(venda)"
   ]
  }
 ],
 "metadata": {
  "kernelspec": {
   "display_name": "Python 3",
   "language": "python",
   "name": "python3"
  },
  "language_info": {
   "codemirror_mode": {
    "name": "ipython",
    "version": 3
   },
   "file_extension": ".py",
   "mimetype": "text/x-python",
   "name": "python",
   "nbconvert_exporter": "python",
   "pygments_lexer": "ipython3",
   "version": "3.12.2"
  }
 },
 "nbformat": 4,
 "nbformat_minor": 2
}
