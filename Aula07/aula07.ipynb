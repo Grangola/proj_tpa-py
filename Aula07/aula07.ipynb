{
 "cells": [
  {
   "cell_type": "markdown",
   "metadata": {},
   "source": [
    "# Introdução à Árvore Binária"
   ]
  },
  {
   "cell_type": "markdown",
   "metadata": {},
   "source": [
    "> Árvores Binárias são essenciais para a organização de dados de forma alfabética ou numeral. Através de nós um valor é comparado ao inicial. após verificar se o valor é maior ou menor que o nó, ele será reposicionado na memória à esquerda (menor) ou à direita (maior) do nó inicial. Assim, possibilita a organização dos dados dentro de uma lista como o método .sort(). Após isso, ele se torna um nó podendo utilizar o método dentro dele mesmo chamado de recursividade."
   ]
  },
  {
   "cell_type": "code",
   "execution_count": 15,
   "metadata": {},
   "outputs": [],
   "source": [
    "class No:\n",
    "    def __init__(self,valor):\n",
    "        self.esquerda = None\n",
    "        self.direita = None\n",
    "        self.valor = valor"
   ]
  },
  {
   "cell_type": "markdown",
   "metadata": {},
   "source": [
    "### Inserindo o método inserir"
   ]
  },
  {
   "cell_type": "code",
   "execution_count": 584,
   "metadata": {},
   "outputs": [],
   "source": [
    "def inserir(raiz, chave):\n",
    "    if raiz is None:\n",
    "        return No(chave)\n",
    "    else:\n",
    "        if chave > raiz.valor:\n",
    "            raiz.esquerda = inserir(raiz.esquerda, chave)\n",
    "        else:\n",
    "            raiz.direita = inserir(raiz.direita, chave)\n",
    "    return raiz"
   ]
  },
  {
   "cell_type": "markdown",
   "metadata": {},
   "source": [
    "### Método de ordenação"
   ]
  },
  {
   "cell_type": "code",
   "execution_count": 18,
   "metadata": {},
   "outputs": [],
   "source": [
    "def ordenar(raiz):\n",
    "    if raiz:\n",
    "        ordenar(raiz.esquerda)\n",
    "        print(raiz.valor, end = \" \")\n",
    "        ordenar(raiz.direita)"
   ]
  },
  {
   "cell_type": "markdown",
   "metadata": {},
   "source": [
    "### Método principal"
   ]
  },
  {
   "cell_type": "code",
   "execution_count": 21,
   "metadata": {},
   "outputs": [
    {
     "name": "stdout",
     "output_type": "stream",
     "text": [
      "Em orderm 0 1 2 7 8 9 10 \n"
     ]
    }
   ],
   "source": [
    "if __name__ == \"__main__\":\n",
    "    raiz = None\n",
    "    valores =  [10,7,8,1,2,9,0]\n",
    "\n",
    "    for x in valores:\n",
    "        raiz = inserir (raiz, x)\n",
    "\n",
    "    print(\"Em orderm\", end = \" \")\n",
    "    ordenar(raiz)\n",
    "    print()"
   ]
  },
  {
   "cell_type": "code",
   "execution_count": 25,
   "metadata": {},
   "outputs": [
    {
     "name": "stdout",
     "output_type": "stream",
     "text": [
      "9\n"
     ]
    }
   ],
   "source": [
    "import random\n",
    "aleatorio = random.randint(1,10)\n",
    "print(aleatorio)"
   ]
  },
  {
   "cell_type": "markdown",
   "metadata": {},
   "source": [
    "## Exercício 1:"
   ]
  },
  {
   "cell_type": "markdown",
   "metadata": {},
   "source": [
    "> Crie um método que insira 10 valores aleatórios de 0 à 100. Após isso organize-os e os mostre"
   ]
  },
  {
   "cell_type": "code",
   "execution_count": 2024,
   "metadata": {},
   "outputs": [
    {
     "name": "stdout",
     "output_type": "stream",
     "text": [
      "Em orderm: 100 99 73 63 58 49 46 46 42 14 \n"
     ]
    }
   ],
   "source": [
    "import random\n",
    "a1 = random.randint(1,100)\n",
    "a2 = random.randint(1,100)\n",
    "a3 = random.randint(1,100)\n",
    "a4 = random.randint(1,100)\n",
    "a5 = random.randint(1,100)\n",
    "a6 = random.randint(1,100)\n",
    "a7 = random.randint(1,100)\n",
    "a8 = random.randint(1,100)\n",
    "a9 = random.randint(1,100)\n",
    "a10 = random.randint(1,100)\n",
    "\n",
    "\n",
    "if __name__ == \"__main__\":\n",
    "    raiz = None\n",
    "    valores =  [a1,a2,a3,a4,a5,a6,a7,a8,a9,a10]\n",
    "\n",
    "    for x in valores:\n",
    "        raiz = inserir (raiz, x)\n",
    "\n",
    "    print(\"Em orderm:\", end = \" \")\n",
    "    ordenar(raiz)\n",
    "    print()\n",
    "\n",
    "\n"
   ]
  },
  {
   "cell_type": "markdown",
   "metadata": {},
   "source": [
    "## Exercício 2:\n",
    "\n",
    "> Crie um método que insira 5 valores aleatórios de 0 à 100. Após isso organize-os em ordem decrescente e mostre-os"
   ]
  },
  {
   "cell_type": "code",
   "execution_count": 2048,
   "metadata": {},
   "outputs": [
    {
     "name": "stdout",
     "output_type": "stream",
     "text": [
      "Em orderm: 8 4 4 3 2 \n"
     ]
    }
   ],
   "source": [
    "import random\n",
    "a1 = random.randint(1,10)\n",
    "a2 = random.randint(1,10)\n",
    "a3 = random.randint(1,10)\n",
    "a4 = random.randint(1,10)\n",
    "a5 = random.randint(1,10)\n",
    "\n",
    "\n",
    "if __name__ == \"__main__\":\n",
    "    raiz = None\n",
    "    valores =  [a1,a2,a3,a4,a5]\n",
    "\n",
    "    for x in valores:\n",
    "        raiz = inserir (raiz, x)\n",
    "\n",
    "    print(\"Em orderm:\", end = \" \")\n",
    "    ordenar(raiz)\n",
    "    print()"
   ]
  }
 ],
 "metadata": {
  "kernelspec": {
   "display_name": "Python 3",
   "language": "python",
   "name": "python3"
  },
  "language_info": {
   "codemirror_mode": {
    "name": "ipython",
    "version": 3
   },
   "file_extension": ".py",
   "mimetype": "text/x-python",
   "name": "python",
   "nbconvert_exporter": "python",
   "pygments_lexer": "ipython3",
   "version": "3.12.2"
  }
 },
 "nbformat": 4,
 "nbformat_minor": 2
}
